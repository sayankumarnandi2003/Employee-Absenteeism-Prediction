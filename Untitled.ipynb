{
 "cells": [
  {
   "cell_type": "code",
   "execution_count": 1,
   "id": "6dab84fd-8cb9-4420-8f84-51c95541e04d",
   "metadata": {},
   "outputs": [
    {
     "ename": "ModuleNotFoundError",
     "evalue": "No module named 'sklearn.linear_model.logistic'",
     "output_type": "error",
     "traceback": [
      "\u001b[1;31m---------------------------------------------------------------------------\u001b[0m",
      "\u001b[1;31mModuleNotFoundError\u001b[0m                       Traceback (most recent call last)",
      "Cell \u001b[1;32mIn[1], line 14\u001b[0m\n\u001b[0;32m      9\u001b[0m \u001b[38;5;66;03m# --- Main execution block ---\u001b[39;00m\n\u001b[0;32m     10\u001b[0m \u001b[38;5;28;01mif\u001b[39;00m \u001b[38;5;18m__name__\u001b[39m \u001b[38;5;241m==\u001b[39m \u001b[38;5;124m\"\u001b[39m\u001b[38;5;124m__main__\u001b[39m\u001b[38;5;124m\"\u001b[39m:\n\u001b[0;32m     11\u001b[0m     \n\u001b[0;32m     12\u001b[0m     \u001b[38;5;66;03m# 1. Initialize the model\u001b[39;00m\n\u001b[0;32m     13\u001b[0m     \u001b[38;5;66;03m# This creates an instance of your model class and loads the 'model' and 'scaler' files.\u001b[39;00m\n\u001b[1;32m---> 14\u001b[0m     model \u001b[38;5;241m=\u001b[39m absenteeism_model(\u001b[38;5;124m'\u001b[39m\u001b[38;5;124mmodel\u001b[39m\u001b[38;5;124m'\u001b[39m, \u001b[38;5;124m'\u001b[39m\u001b[38;5;124mscaler\u001b[39m\u001b[38;5;124m'\u001b[39m)\n\u001b[0;32m     16\u001b[0m     \u001b[38;5;66;03m# 2. Load and preprocess the new data\u001b[39;00m\n\u001b[0;32m     17\u001b[0m     \u001b[38;5;66;03m# The 'load_and_clean_data' method from your module handles all the necessary preprocessing steps.\u001b[39;00m\n\u001b[0;32m     18\u001b[0m     model\u001b[38;5;241m.\u001b[39mload_and_clean_data(\u001b[38;5;124m'\u001b[39m\u001b[38;5;124mAbsenteeism_new_data.csv\u001b[39m\u001b[38;5;124m'\u001b[39m)\n",
      "File \u001b[1;32m~\\Desktop\\ml project\\absenteeism_module.py:42\u001b[0m, in \u001b[0;36mabsenteeism_model.__init__\u001b[1;34m(self, model_file, scaler_file)\u001b[0m\n\u001b[0;32m     39\u001b[0m \u001b[38;5;28;01mdef\u001b[39;00m \u001b[38;5;21m__init__\u001b[39m(\u001b[38;5;28mself\u001b[39m, model_file, scaler_file):\n\u001b[0;32m     40\u001b[0m     \u001b[38;5;66;03m# read the 'model' and 'scaler' files which were saved\u001b[39;00m\n\u001b[0;32m     41\u001b[0m     \u001b[38;5;28;01mwith\u001b[39;00m \u001b[38;5;28mopen\u001b[39m(\u001b[38;5;124m'\u001b[39m\u001b[38;5;124mmodel\u001b[39m\u001b[38;5;124m'\u001b[39m,\u001b[38;5;124m'\u001b[39m\u001b[38;5;124mrb\u001b[39m\u001b[38;5;124m'\u001b[39m) \u001b[38;5;28;01mas\u001b[39;00m model_file, \u001b[38;5;28mopen\u001b[39m(\u001b[38;5;124m'\u001b[39m\u001b[38;5;124mscaler\u001b[39m\u001b[38;5;124m'\u001b[39m, \u001b[38;5;124m'\u001b[39m\u001b[38;5;124mrb\u001b[39m\u001b[38;5;124m'\u001b[39m) \u001b[38;5;28;01mas\u001b[39;00m scaler_file:\n\u001b[1;32m---> 42\u001b[0m         \u001b[38;5;28mself\u001b[39m\u001b[38;5;241m.\u001b[39mreg \u001b[38;5;241m=\u001b[39m pickle\u001b[38;5;241m.\u001b[39mload(model_file)\n\u001b[0;32m     43\u001b[0m         \u001b[38;5;28mself\u001b[39m\u001b[38;5;241m.\u001b[39mscaler \u001b[38;5;241m=\u001b[39m pickle\u001b[38;5;241m.\u001b[39mload(scaler_file)\n\u001b[0;32m     44\u001b[0m         \u001b[38;5;28mself\u001b[39m\u001b[38;5;241m.\u001b[39mdata \u001b[38;5;241m=\u001b[39m \u001b[38;5;28;01mNone\u001b[39;00m\n",
      "\u001b[1;31mModuleNotFoundError\u001b[0m: No module named 'sklearn.linear_model.logistic'"
     ]
    }
   ],
   "source": [
    "# Import necessary libraries\n",
    "import pandas as pd\n",
    "from absenteeism_module import absenteeism_model\n",
    "\n",
    "# --- Main execution block ---# Import necessary libraries\n",
    "import pandas as pd\n",
    "from absenteeism_module import absenteeism_model\n",
    "\n",
    "# --- Main execution block ---\n",
    "if __name__ == \"__main__\":\n",
    "    \n",
    "    # 1. Initialize the model\n",
    "    # This creates an instance of your model class and loads the 'model' and 'scaler' files.\n",
    "    model = absenteeism_model('model', 'scaler')\n",
    "    \n",
    "    # 2. Load and preprocess the new data\n",
    "    # The 'load_and_clean_data' method from your module handles all the necessary preprocessing steps.\n",
    "    model.load_and_clean_data('Absenteeism_new_data.csv')\n",
    "    \n",
    "    # 3. Generate predictions and probabilities\n",
    "    # The 'predicted_outputs' method returns a DataFrame with the original data,\n",
    "    # the calculated probability of absenteeism, and the final prediction (0 or 1).\n",
    "    df_new_obs = model.predicted_outputs()\n",
    "    \n",
    "    # 4. Save the results to a CSV file\n",
    "    # The resulting DataFrame is saved to 'Absenteeism_predictions.csv'.\n",
    "    # 'index=False' prevents pandas from writing row indices into the file.\n",
    "    df_new_obs.to_csv('Absenteeism_predictions.csv', index=False)\n",
    "    \n",
    "    # 5. (Optional) Display the results\n",
    "    # Print a confirmation message and show the first few rows of the output.\n",
    "    print(\"Successfully created 'Absenteeism_predictions.csv'\")\n",
    "    print(\"-------------------------------------------------\")\n",
    "    print(\"First 5 predictions:\")\n",
    "    display(df_new_obs.head())\n",
    "if __name__ == \"__main__\":\n",
    "    \n",
    "    # 1. Initialize the model\n",
    "    # This creates an instance of your model class and loads the 'model' and 'scaler' files.\n",
    "    model = absenteeism_model('model', 'scaler')\n",
    "    \n",
    "    # 2. Load and preprocess the new data\n",
    "    # The 'load_and_clean_data' method from your module handles all the necessary preprocessing steps.\n",
    "    model.load_and_clean_data('Absenteeism_new_data.csv')\n",
    "    \n",
    "    # 3. Generate predictions and probabilities\n",
    "    # The 'predicted_outputs' method returns a DataFrame with the original data,\n",
    "    # the calculated probability of absenteeism, and the final prediction (0 or 1).\n",
    "    df_new_obs = model.predicted_outputs()\n",
    "    \n",
    "    # 4. Save the results to a CSV file\n",
    "    # The resulting DataFrame is saved to 'Absenteeism_predictions.csv'.\n",
    "    # 'index=False' prevents pandas from writing row indices into the file.\n",
    "    df_new_obs.to_csv('Absenteeism_predictions.csv', index=False)\n",
    "    \n",
    "    # 5. (Optional) Display the results\n",
    "    # Print a confirmation message and show the first few rows of the output.\n",
    "    print(\"Successfully created 'Absenteeism_predictions.csv'\")\n",
    "    print(\"-------------------------------------------------\")\n",
    "    print(\"First 5 predictions:\")\n",
    "    display(df_new_obs.head())"
   ]
  },
  {
   "cell_type": "code",
   "execution_count": null,
   "id": "e3491853-3900-4078-96fb-cad74a40421a",
   "metadata": {},
   "outputs": [],
   "source": []
  }
 ],
 "metadata": {
  "kernelspec": {
   "display_name": "Python [conda env:base] *",
   "language": "python",
   "name": "conda-base-py"
  },
  "language_info": {
   "codemirror_mode": {
    "name": "ipython",
    "version": 3
   },
   "file_extension": ".py",
   "mimetype": "text/x-python",
   "name": "python",
   "nbconvert_exporter": "python",
   "pygments_lexer": "ipython3",
   "version": "3.12.7"
  }
 },
 "nbformat": 4,
 "nbformat_minor": 5
}
