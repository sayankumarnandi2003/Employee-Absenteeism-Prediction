{
 "cells": [
  {
   "cell_type": "code",
   "execution_count": 1,
   "id": "9fe1816f-259b-4d20-bf77-e3190c6a17fa",
   "metadata": {},
   "outputs": [
    {
     "name": "stdout",
     "output_type": "stream",
     "text": [
      "Step 1: Module imported successfully.\n",
      "Step 2: Model and scaler loaded successfully.\n",
      "Step 3: New data loaded and preprocessed successfully.\n",
      "Step 4: Predictions generated successfully.\n",
      "\n",
      "✅ Success! Predictions have been saved to 'Absenteeism_predictions.csv'\n",
      "\n",
      "--- First 5 Predictions ---\n",
      "   Reason_1  Reason_2  Reason_3  Reason_4  Month Value  \\\n",
      "0     False       0.0     False      True            6   \n",
      "1      True       0.0     False     False            6   \n",
      "2     False       0.0     False      True            6   \n",
      "3     False       0.0     False      True            6   \n",
      "4      True       0.0     False     False            6   \n",
      "\n",
      "   Transportation Expense  Age  Body Mass Index  Education  Children  Pet  \\\n",
      "0                     179   30               19          1         0    0   \n",
      "1                     361   28               27          0         1    4   \n",
      "2                     155   34               25          0         2    0   \n",
      "3                     179   40               22          1         2    0   \n",
      "4                     155   34               25          0         2    0   \n",
      "\n",
      "   Probability  Prediction  \n",
      "0     0.117262           0  \n",
      "1     0.911740           1  \n",
      "2     0.274313           0  \n",
      "3     0.181650           0  \n",
      "4     0.754294           1  \n"
     ]
    }
   ],
   "source": [
    "# This is the code for your Jupyter Notebook cell.\n",
    "# Make sure 'absenteeism_module.py', 'model', 'scaler', and 'Absenteeism_new_data.csv'\n",
    "# are all in the same folder as this notebook.\n",
    "\n",
    "# 1. Import your custom module\n",
    "# This gives you access to the absenteeism_model class.\n",
    "from absenteeism_module import *\n",
    "import pandas as pd\n",
    "\n",
    "print(\"Step 1: Module imported successfully.\")\n",
    "\n",
    "# 2. Initialize the Model\n",
    "# This creates an instance of your model class and loads the 'model' and 'scaler' files you just created.\n",
    "try:\n",
    "    model = absenteeism_model('model', 'scaler')\n",
    "    print(\"Step 2: Model and scaler loaded successfully.\")\n",
    "except FileNotFoundError:\n",
    "    print(\"\\nERROR: 'model' or 'scaler' file not found.\")\n",
    "    print(\"Please make sure you have successfully run the 'train_model.py' script first.\")\n",
    "    \n",
    "# 3. Load and Preprocess the New Data\n",
    "# The load_and_clean_data() method handles all the preprocessing steps for the new data.\n",
    "try:\n",
    "    model.load_and_clean_data('Absenteeism_new_data.csv')\n",
    "    print(\"Step 3: New data loaded and preprocessed successfully.\")\n",
    "except FileNotFoundError:\n",
    "    print(\"\\nERROR: 'Absenteeism_new_data.csv' not found. Please ensure it's in the correct folder.\")\n",
    "\n",
    "\n",
    "# 4. Generate and Save Predictions\n",
    "# This is the final step you requested.\n",
    "# The predicted_outputs() method calculates the predictions and probabilities.\n",
    "# .to_csv() then saves this output to a new file.\n",
    "try:\n",
    "    # The method returns a DataFrame, which we then save.\n",
    "    predictions_df = model.predicted_outputs()\n",
    "    \n",
    "    # Save the DataFrame to a CSV file.\n",
    "    # index=False prevents pandas from writing the DataFrame index as a column.\n",
    "    predictions_df.to_csv('Absenteeism_predictions.csv', index = False)\n",
    "    \n",
    "    print(\"Step 4: Predictions generated successfully.\")\n",
    "    print(\"\\n✅ Success! Predictions have been saved to 'Absenteeism_predictions.csv'\")\n",
    "\n",
    "    # 5. (Optional) Display the first few predictions\n",
    "    print(\"\\n--- First 5 Predictions ---\")\n",
    "    print(predictions_df.head())\n",
    "\n",
    "except Exception as e:\n",
    "    print(f\"\\nAn error occurred during prediction or saving: {e}\")\n",
    "\n"
   ]
  },
  {
   "cell_type": "code",
   "execution_count": null,
   "id": "124b7324-dc43-4e33-9045-ccd5c6ad51ff",
   "metadata": {},
   "outputs": [],
   "source": []
  }
 ],
 "metadata": {
  "kernelspec": {
   "display_name": "Python [conda env:base] *",
   "language": "python",
   "name": "conda-base-py"
  },
  "language_info": {
   "codemirror_mode": {
    "name": "ipython",
    "version": 3
   },
   "file_extension": ".py",
   "mimetype": "text/x-python",
   "name": "python",
   "nbconvert_exporter": "python",
   "pygments_lexer": "ipython3",
   "version": "3.12.7"
  }
 },
 "nbformat": 4,
 "nbformat_minor": 5
}
